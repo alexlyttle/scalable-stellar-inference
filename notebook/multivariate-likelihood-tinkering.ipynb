{
 "cells": [
  {
   "cell_type": "code",
   "execution_count": null,
   "metadata": {},
   "outputs": [],
   "source": [
    "# TODO: Add imports"
   ]
  },
  {
   "cell_type": "code",
   "execution_count": null,
   "metadata": {},
   "outputs": [],
   "source": [
    "from matplotlib import colormaps"
   ]
  },
  {
   "cell_type": "code",
   "execution_count": null,
   "metadata": {},
   "outputs": [
    {
     "data": {
      "text/plain": [
       "(0.127568, 0.566949, 0.550556, 1.0)"
      ]
     },
     "metadata": {},
     "output_type": "display_data"
    }
   ],
   "source": [
    "colormaps[\"viridis\"](0.5)"
   ]
  },
  {
   "cell_type": "code",
   "execution_count": null,
   "metadata": {},
   "outputs": [
    {
     "data": {
      "text/plain": [
       "Text(0.5, 1.0, 'Covariance matrix')"
      ]
     },
     "metadata": {},
     "output_type": "display_data"
    },
    {
     "data": {
      "image/png": "[encoded data removed]",
      "text/plain": [
       "<Figure size 640x480 with 1 Axes>"
      ]
     },
     "metadata": {},
     "output_type": "display_data"
    }
   ],
   "source": [
    "indices = np.arange(4)\n",
    "cov = np.exp(- (indices - indices[:, None])**2)\n",
    "\n",
    "cmap = colormaps[\"viridis\"]\n",
    "\n",
    "fig, ax = plt.subplots()\n",
    "im = ax.imshow(cov, cmap=cmap)\n",
    "for i in indices:\n",
    "    for j in indices:\n",
    "        z = cov[i, j]\n",
    "        c = [1 - x for x in cmap(z)[:-1]]  # invert color\n",
    "        ax.text(i, j, f\"{z:.2f}\", c=c, horizontalalignment=\"center\", verticalalignment=\"center\")\n",
    "\n",
    "ax.xaxis.get_major_locator().set_params(integer=True)\n",
    "ax.yaxis.get_major_locator().set_params(integer=True)\n",
    "ax.set_title(\"Covariance matrix\")"
   ]
  },
  {
   "cell_type": "code",
   "execution_count": null,
   "metadata": {},
   "outputs": [],
   "source": [
    "tril = np.linalg.cholesky(cov)\n",
    "assert np.isclose(cov, tril @ tril.T).all()"
   ]
  },
  {
   "cell_type": "code",
   "execution_count": null,
   "metadata": {},
   "outputs": [],
   "source": [
    "u = 10.0\n",
    "scale_tril = tril * u**-0.5\n",
    "assert np.isclose(cov/u, scale_tril @ scale_tril.T).all()"
   ]
  },
  {
   "cell_type": "code",
   "execution_count": null,
   "metadata": {},
   "outputs": [],
   "source": [
    "from celestify import PACKAGEDIR\n",
    "import json, os\n",
    "import jax.numpy as jnp"
   ]
  },
  {
   "cell_type": "code",
   "execution_count": null,
   "metadata": {},
   "outputs": [],
   "source": [
    "with open(os.path.join(PACKAGEDIR, \"data/emulator_error.json\"), \"r\") as file:\n",
    "    params = json.loads(file.read())"
   ]
  },
  {
   "cell_type": "code",
   "execution_count": null,
   "metadata": {},
   "outputs": [],
   "source": [
    "df = jnp.array(params[\"df\"])\n",
    "loc = jnp.array(params[\"mu\"])\n",
    "scale =  jnp.array(np.sqrt(params[\"theta\"]))\n",
    "L_omega = jnp.array(params[\"L_omega\"])"
   ]
  },
  {
   "cell_type": "code",
   "execution_count": null,
   "metadata": {},
   "outputs": [],
   "source": [
    "scale_tril = scale[:, None] * L_omega"
   ]
  },
  {
   "cell_type": "code",
   "execution_count": null,
   "metadata": {},
   "outputs": [
    {
     "data": {
      "text/plain": [
       "array([[0.        , 2.30258509, 0.        , 0.        ],\n",
       "       [0.        , 9.21034037, 4.60517019, 0.        ]])"
      ]
     },
     "metadata": {},
     "output_type": "display_data"
    }
   ],
   "source": [
    "a = np.stack([[0.0, 1.0, 0.0, 0.0], \n",
    "              [0.0, 4.0, 2.0, 0.0]]) * np.log(10.0)\n",
    "a"
   ]
  },
  {
   "cell_type": "code",
   "execution_count": null,
   "metadata": {},
   "outputs": [
    {
     "data": {
      "text/plain": [
       "Array([[4.57671024e-06, 1.20219811e-05],\n",
       "       [1.20219811e-05, 7.06755314e-05]], dtype=float64)"
      ]
     },
     "metadata": {},
     "output_type": "display_data"
    }
   ],
   "source": [
    "transformed_scale_tril = (a @ scale_tril)\n",
    "cov = (transformed_scale_tril @ transformed_scale_tril.T)\n",
    "cov"
   ]
  },
  {
   "cell_type": "code",
   "execution_count": null,
   "metadata": {},
   "outputs": [],
   "source": [
    "mu = np.log([5777., 1.0]) * np.ones((10, 2))"
   ]
  },
  {
   "cell_type": "code",
   "execution_count": null,
   "metadata": {},
   "outputs": [],
   "source": [
    "indices = jnp.arange(2)\n",
    "\n",
    "def mean_and_cov(mu):\n",
    "    def unlog_mu(i):\n",
    "        return jnp.exp(mu[i] + 0.5 * cov[i, i])\n",
    "\n",
    "    def unlog_cov(i, j):\n",
    "        return jnp.exp(mu[..., i] + mu[..., j] + 0.5 * (cov[i, i] + cov[j, j])) * (jnp.exp(cov[i, j]) - 1)\n",
    "    return unlog_mu(indices), unlog_cov(indices, indices[:, None])\n",
    "\n",
    "# def unlog_cov(i, j):\n",
    "#     return 10**(mu[i] + mu[j] + 0.5 * (cov[i, i] + cov[j, j])) * (10**(cov[i, j]) - 1)"
   ]
  },
  {
   "cell_type": "code",
   "execution_count": null,
   "metadata": {},
   "outputs": [],
   "source": [
    "from jax import vmap"
   ]
  },
  {
   "cell_type": "code",
   "execution_count": null,
   "metadata": {},
   "outputs": [],
   "source": [
    "corr_mu, corr_cov = vmap(mean_and_cov)(mu)"
   ]
  },
  {
   "cell_type": "code",
   "execution_count": null,
   "metadata": {},
   "outputs": [],
   "source": [
    "# new_cov = np.full_like(transformed_cov, np.nan)\n",
    "# new_cov[0, 0] = np.exp(transformed_cov[0, 0]) * (np.exp(transformed_cov[0, 0]) - 1)\n",
    "# new_cov[1, 1] = np.exp(transformed_cov[1, 1]) * (np.exp(transformed_cov[1, 1]) - 1)\n",
    "# new_cov[0, 1] = np.exp(0.5 * (transformed_cov[0, 0] + transformed_cov[1, 1]))  * (np.exp(transformed_cov[0, 1]) - 1)\n",
    "# new_cov[1, 0] = np.exp(0.5 * (transformed_cov[0, 0] + transformed_cov[1, 1]))  * (np.exp(transformed_cov[1, 0]) - 1)\n",
    "# new_cov"
   ]
  },
  {
   "cell_type": "code",
   "execution_count": null,
   "metadata": {},
   "outputs": [],
   "source": [
    "def unlog_mu(i):\n",
    "    return np.exp(mu[i] + 0.5 * cov[i, i])\n",
    "\n",
    "# def unlog_mu(i):\n",
    "    # return 10**(mu[i] + 0.5 * cov[i, i])"
   ]
  },
  {
   "cell_type": "code",
   "execution_count": null,
   "metadata": {},
   "outputs": [
    {
     "data": {
      "text/plain": [
       "(2, 4)"
      ]
     },
     "metadata": {},
     "output_type": "display_data"
    }
   ],
   "source": [
    "a.shape"
   ]
  },
  {
   "cell_type": "code",
   "execution_count": null,
   "metadata": {},
   "outputs": [
    {
     "data": {
      "text/plain": [
       "(10, 2, 1)"
      ]
     },
     "metadata": {},
     "output_type": "display_data"
    }
   ],
   "source": [
    "jnp.matmul(a, outputs[..., None]).shape"
   ]
  },
  {
   "cell_type": "code",
   "execution_count": null,
   "metadata": {},
   "outputs": [
    {
     "data": {
      "text/plain": [
       "array([46.76328898,  2.71829995])"
      ]
     },
     "metadata": {},
     "output_type": "display_data"
    }
   ],
   "source": [
    "new_mu = unlog_mu(indices)\n",
    "new_mu"
   ]
  },
  {
   "cell_type": "code",
   "execution_count": null,
   "metadata": {},
   "outputs": [],
   "source": [
    "import numpyro.distributions as dist"
   ]
  },
  {
   "cell_type": "code",
   "execution_count": null,
   "metadata": {},
   "outputs": [],
   "source": [
    "# shape = (5000,)\n",
    "# y = dist.MultivariateNormal(new_mu, covariance_matrix=new_cov).sample(rng, sample_shape=shape)\n",
    "# log_y = dist.MultivariateNormal(0.0, covariance_matrix=transformed_cov).sample(rng, sample_shape=shape)\n",
    "\n",
    "shape = (10000,)\n",
    "keys = random.split(rng, 4)\n",
    "scaled_precision = dist.Gamma(df/2, df/2).sample(keys[0], shape)\n",
    "\n",
    "obs_scale = jnp.array([25.0, 0.01])\n",
    "\n",
    "y = dist.MultivariateNormal(new_mu, covariance_matrix=new_cov/scaled_precision[:, None, None] + jnp.diag(obs_scale)**2).sample(keys[1])\n",
    "# yp = dist.MultivariateNormal(new_mu+mu, scale_tril=new_scale_tril/scaled_precision[:, None, None]**0.5).sample(keys[2])\n",
    "log_y = dist.MultivariateNormal(0.0, covariance_matrix=cov/scaled_precision[:, None, None] + (jnp.diag(obs_scale)/10**(mu))**2).sample(keys[3])"
   ]
  },
  {
   "cell_type": "code",
   "execution_count": null,
   "metadata": {},
   "outputs": [
    {
     "name": "stderr",
     "output_type": "stream",
     "text": [
      "/home/alex/miniconda3/envs/celestify/lib/python3.10/site-packages/corner/core.py:922: UserWarning: Attempting to set identical low and high ylims makes transformation singular; automatically expanding.\n",
      "  return ax.set_ylim(new_ylim)\n",
      "/home/alex/miniconda3/envs/celestify/lib/python3.10/site-packages/corner/core.py:922: UserWarning: Attempting to set identical low and high ylims makes transformation singular; automatically expanding.\n",
      "  return ax.set_ylim(new_ylim)\n"
     ]
    },
    {
     "ename": "ValueError",
     "evalue": "It looks like the provided 'range' is not valid or the sample is empty.",
     "output_type": "error",
     "traceback": [
      "\u001b[0;31m---------------------------------------------------------------------------\u001b[0m\n",
      "\u001b[0;31mValueError\u001b[0m                                Traceback (most recent call last)\n",
      "Cell \u001b[0;32mIn[451], line 4\u001b[0m\n",
      "\u001b[1;32m      2\u001b[0m limits \u001b[38;5;241m=\u001b[39m \u001b[38;5;28;01mNone\u001b[39;00m\n",
      "\u001b[1;32m      3\u001b[0m limits \u001b[38;5;241m=\u001b[39m [(\u001b[38;5;241m6700.\u001b[39m, \u001b[38;5;241m7200.\u001b[39m), (\u001b[38;5;241m9.5\u001b[39m, \u001b[38;5;241m10.5\u001b[39m)]\n",
      "\u001b[0;32m----> 4\u001b[0m fig \u001b[38;5;241m=\u001b[39m \u001b[43mcorner\u001b[49m\u001b[43m(\u001b[49m\u001b[43mnp\u001b[49m\u001b[38;5;241;43m.\u001b[39;49m\u001b[43marray\u001b[49m\u001b[43m(\u001b[49m\u001b[43my\u001b[49m\u001b[43m)\u001b[49m\u001b[43m,\u001b[49m\u001b[43m \u001b[49m\u001b[43mbins\u001b[49m\u001b[38;5;241;43m=\u001b[39;49m\u001b[38;5;241;43m50\u001b[39;49m\u001b[43m,\u001b[49m\u001b[43m \u001b[49m\u001b[43mdensity\u001b[49m\u001b[38;5;241;43m=\u001b[39;49m\u001b[38;5;28;43;01mTrue\u001b[39;49;00m\u001b[43m,\u001b[49m\u001b[43m \u001b[49m\u001b[38;5;28;43mrange\u001b[39;49m\u001b[38;5;241;43m=\u001b[39;49m\u001b[43mlimits\u001b[49m\u001b[43m)\u001b[49m\n",
      "\u001b[1;32m      5\u001b[0m \u001b[38;5;66;03m# fig = corner(np.array(yp), fig=fig, color=\"b\", bins=50, density=True, range=limits)\u001b[39;00m\n",
      "\u001b[1;32m      6\u001b[0m fig \u001b[38;5;241m=\u001b[39m corner(np\u001b[38;5;241m.\u001b[39mpower(\u001b[38;5;241m10\u001b[39m, log_y \u001b[38;5;241m+\u001b[39m mu), fig\u001b[38;5;241m=\u001b[39mfig, color\u001b[38;5;241m=\u001b[39m\u001b[38;5;124m\"\u001b[39m\u001b[38;5;124mr\u001b[39m\u001b[38;5;124m\"\u001b[39m, bins\u001b[38;5;241m=\u001b[39m\u001b[38;5;241m50\u001b[39m, density\u001b[38;5;241m=\u001b[39m\u001b[38;5;28;01mTrue\u001b[39;00m, \u001b[38;5;28mrange\u001b[39m\u001b[38;5;241m=\u001b[39mlimits)\n",
      "\n",
      "File \u001b[0;32m~/miniconda3/envs/celestify/lib/python3.10/site-packages/corner/corner.py:280\u001b[0m, in \u001b[0;36mcorner\u001b[0;34m(data, bins, range, axes_scale, weights, color, hist_bin_factor, smooth, smooth1d, labels, label_kwargs, titles, show_titles, title_quantiles, title_fmt, title_kwargs, truths, truth_color, scale_hist, quantiles, verbose, fig, max_n_ticks, top_ticks, use_math_text, reverse, labelpad, hist_kwargs, group, var_names, filter_vars, coords, divergences, divergences_kwargs, labeller, **hist2d_kwargs)\u001b[0m\n",
      "\u001b[1;32m    244\u001b[0m         logging\u001b[38;5;241m.\u001b[39mwarning(\n",
      "\u001b[1;32m    245\u001b[0m             \u001b[38;5;124m\"\u001b[39m\u001b[38;5;124mPlease install arviz to use the advanced features of corner\u001b[39m\u001b[38;5;124m\"\u001b[39m\n",
      "\u001b[1;32m    246\u001b[0m         )\n",
      "\u001b[1;32m    248\u001b[0m     \u001b[38;5;28;01mreturn\u001b[39;00m corner_impl(\n",
      "\u001b[1;32m    249\u001b[0m         data,\n",
      "\u001b[1;32m    250\u001b[0m         bins\u001b[38;5;241m=\u001b[39mbins,\n",
      "\u001b[0;32m   (...)\u001b[0m\n",
      "\u001b[1;32m    277\u001b[0m         \u001b[38;5;241m*\u001b[39m\u001b[38;5;241m*\u001b[39mhist2d_kwargs,\n",
      "\u001b[1;32m    278\u001b[0m     )\n",
      "\u001b[0;32m--> 280\u001b[0m \u001b[38;5;28;01mreturn\u001b[39;00m \u001b[43marviz_corner\u001b[49m\u001b[43m(\u001b[49m\n",
      "\u001b[1;32m    281\u001b[0m \u001b[43m    \u001b[49m\u001b[43mdata\u001b[49m\u001b[43m,\u001b[49m\n",
      "\u001b[1;32m    282\u001b[0m \u001b[43m    \u001b[49m\u001b[43mbins\u001b[49m\u001b[38;5;241;43m=\u001b[39;49m\u001b[43mbins\u001b[49m\u001b[43m,\u001b[49m\n",
      "\u001b[1;32m    283\u001b[0m \u001b[43m    \u001b[49m\u001b[38;5;28;43mrange\u001b[39;49m\u001b[38;5;241;43m=\u001b[39;49m\u001b[38;5;28;43mrange\u001b[39;49m\u001b[43m,\u001b[49m\n",
      "\u001b[1;32m    284\u001b[0m \u001b[43m    \u001b[49m\u001b[43maxes_scale\u001b[49m\u001b[38;5;241;43m=\u001b[39;49m\u001b[43maxes_scale\u001b[49m\u001b[43m,\u001b[49m\n",
      "\u001b[1;32m    285\u001b[0m \u001b[43m    \u001b[49m\u001b[43mweights\u001b[49m\u001b[38;5;241;43m=\u001b[39;49m\u001b[43mweights\u001b[49m\u001b[43m,\u001b[49m\n",
      "\u001b[1;32m    286\u001b[0m \u001b[43m    \u001b[49m\u001b[43mcolor\u001b[49m\u001b[38;5;241;43m=\u001b[39;49m\u001b[43mcolor\u001b[49m\u001b[43m,\u001b[49m\n",
      "\u001b[1;32m    287\u001b[0m \u001b[43m    \u001b[49m\u001b[43mhist_bin_factor\u001b[49m\u001b[38;5;241;43m=\u001b[39;49m\u001b[43mhist_bin_factor\u001b[49m\u001b[43m,\u001b[49m\n",
      "\u001b[1;32m    288\u001b[0m \u001b[43m    \u001b[49m\u001b[43msmooth\u001b[49m\u001b[38;5;241;43m=\u001b[39;49m\u001b[43msmooth\u001b[49m\u001b[43m,\u001b[49m\n",
      "\u001b[1;32m    289\u001b[0m \u001b[43m    \u001b[49m\u001b[43msmooth1d\u001b[49m\u001b[38;5;241;43m=\u001b[39;49m\u001b[43msmooth1d\u001b[49m\u001b[43m,\u001b[49m\n",
      "\u001b[1;32m    290\u001b[0m \u001b[43m    \u001b[49m\u001b[43mlabels\u001b[49m\u001b[38;5;241;43m=\u001b[39;49m\u001b[43mlabels\u001b[49m\u001b[43m,\u001b[49m\n",
      "\u001b[1;32m    291\u001b[0m \u001b[43m    \u001b[49m\u001b[43mlabel_kwargs\u001b[49m\u001b[38;5;241;43m=\u001b[39;49m\u001b[43mlabel_kwargs\u001b[49m\u001b[43m,\u001b[49m\n",
      "\u001b[1;32m    292\u001b[0m \u001b[43m    \u001b[49m\u001b[43mtitles\u001b[49m\u001b[38;5;241;43m=\u001b[39;49m\u001b[43mtitles\u001b[49m\u001b[43m,\u001b[49m\n",
      "\u001b[1;32m    293\u001b[0m \u001b[43m    \u001b[49m\u001b[43mshow_titles\u001b[49m\u001b[38;5;241;43m=\u001b[39;49m\u001b[43mshow_titles\u001b[49m\u001b[43m,\u001b[49m\n",
      "\u001b[1;32m    294\u001b[0m \u001b[43m    \u001b[49m\u001b[43mtitle_quantiles\u001b[49m\u001b[38;5;241;43m=\u001b[39;49m\u001b[43mtitle_quantiles\u001b[49m\u001b[43m,\u001b[49m\n",
      "\u001b[1;32m    295\u001b[0m \u001b[43m    \u001b[49m\u001b[43mtitle_fmt\u001b[49m\u001b[38;5;241;43m=\u001b[39;49m\u001b[43mtitle_fmt\u001b[49m\u001b[43m,\u001b[49m\n",
      "\u001b[1;32m    296\u001b[0m \u001b[43m    \u001b[49m\u001b[43mtitle_kwargs\u001b[49m\u001b[38;5;241;43m=\u001b[39;49m\u001b[43mtitle_kwargs\u001b[49m\u001b[43m,\u001b[49m\n",
      "\u001b[1;32m    297\u001b[0m \u001b[43m    \u001b[49m\u001b[43mtruths\u001b[49m\u001b[38;5;241;43m=\u001b[39;49m\u001b[43mtruths\u001b[49m\u001b[43m,\u001b[49m\n",
      "\u001b[1;32m    298\u001b[0m \u001b[43m    \u001b[49m\u001b[43mtruth_color\u001b[49m\u001b[38;5;241;43m=\u001b[39;49m\u001b[43mtruth_color\u001b[49m\u001b[43m,\u001b[49m\n",
      "\u001b[1;32m    299\u001b[0m \u001b[43m    \u001b[49m\u001b[43mscale_hist\u001b[49m\u001b[38;5;241;43m=\u001b[39;49m\u001b[43mscale_hist\u001b[49m\u001b[43m,\u001b[49m\n",
      "\u001b[1;32m    300\u001b[0m \u001b[43m    \u001b[49m\u001b[43mquantiles\u001b[49m\u001b[38;5;241;43m=\u001b[39;49m\u001b[43mquantiles\u001b[49m\u001b[43m,\u001b[49m\n",
      "\u001b[1;32m    301\u001b[0m \u001b[43m    \u001b[49m\u001b[43mverbose\u001b[49m\u001b[38;5;241;43m=\u001b[39;49m\u001b[43mverbose\u001b[49m\u001b[43m,\u001b[49m\n",
      "\u001b[1;32m    302\u001b[0m \u001b[43m    \u001b[49m\u001b[43mfig\u001b[49m\u001b[38;5;241;43m=\u001b[39;49m\u001b[43mfig\u001b[49m\u001b[43m,\u001b[49m\n",
      "\u001b[1;32m    303\u001b[0m \u001b[43m    \u001b[49m\u001b[43mmax_n_ticks\u001b[49m\u001b[38;5;241;43m=\u001b[39;49m\u001b[43mmax_n_ticks\u001b[49m\u001b[43m,\u001b[49m\n",
      "\u001b[1;32m    304\u001b[0m \u001b[43m    \u001b[49m\u001b[43mtop_ticks\u001b[49m\u001b[38;5;241;43m=\u001b[39;49m\u001b[43mtop_ticks\u001b[49m\u001b[43m,\u001b[49m\n",
      "\u001b[1;32m    305\u001b[0m \u001b[43m    \u001b[49m\u001b[43muse_math_text\u001b[49m\u001b[38;5;241;43m=\u001b[39;49m\u001b[43muse_math_text\u001b[49m\u001b[43m,\u001b[49m\n",
      "\u001b[1;32m    306\u001b[0m \u001b[43m    \u001b[49m\u001b[43mreverse\u001b[49m\u001b[38;5;241;43m=\u001b[39;49m\u001b[43mreverse\u001b[49m\u001b[43m,\u001b[49m\n",
      "\u001b[1;32m    307\u001b[0m \u001b[43m    \u001b[49m\u001b[43mlabelpad\u001b[49m\u001b[38;5;241;43m=\u001b[39;49m\u001b[43mlabelpad\u001b[49m\u001b[43m,\u001b[49m\n",
      "\u001b[1;32m    308\u001b[0m \u001b[43m    \u001b[49m\u001b[43mhist_kwargs\u001b[49m\u001b[38;5;241;43m=\u001b[39;49m\u001b[43mhist_kwargs\u001b[49m\u001b[43m,\u001b[49m\n",
      "\u001b[1;32m    309\u001b[0m \u001b[43m    \u001b[49m\u001b[43mgroup\u001b[49m\u001b[38;5;241;43m=\u001b[39;49m\u001b[43mgroup\u001b[49m\u001b[43m,\u001b[49m\n",
      "\u001b[1;32m    310\u001b[0m \u001b[43m    \u001b[49m\u001b[43mvar_names\u001b[49m\u001b[38;5;241;43m=\u001b[39;49m\u001b[43mvar_names\u001b[49m\u001b[43m,\u001b[49m\n",
      "\u001b[1;32m    311\u001b[0m \u001b[43m    \u001b[49m\u001b[43mfilter_vars\u001b[49m\u001b[38;5;241;43m=\u001b[39;49m\u001b[43mfilter_vars\u001b[49m\u001b[43m,\u001b[49m\n",
      "\u001b[1;32m    312\u001b[0m \u001b[43m    \u001b[49m\u001b[43mcoords\u001b[49m\u001b[38;5;241;43m=\u001b[39;49m\u001b[43mcoords\u001b[49m\u001b[43m,\u001b[49m\n",
      "\u001b[1;32m    313\u001b[0m \u001b[43m    \u001b[49m\u001b[43mdivergences\u001b[49m\u001b[38;5;241;43m=\u001b[39;49m\u001b[43mdivergences\u001b[49m\u001b[43m,\u001b[49m\n",
      "\u001b[1;32m    314\u001b[0m \u001b[43m    \u001b[49m\u001b[43mdivergences_kwargs\u001b[49m\u001b[38;5;241;43m=\u001b[39;49m\u001b[43mdivergences_kwargs\u001b[49m\u001b[43m,\u001b[49m\n",
      "\u001b[1;32m    315\u001b[0m \u001b[43m    \u001b[49m\u001b[43mlabeller\u001b[49m\u001b[38;5;241;43m=\u001b[39;49m\u001b[43mlabeller\u001b[49m\u001b[43m,\u001b[49m\n",
      "\u001b[1;32m    316\u001b[0m \u001b[43m    \u001b[49m\u001b[38;5;241;43m*\u001b[39;49m\u001b[38;5;241;43m*\u001b[39;49m\u001b[43mhist2d_kwargs\u001b[49m\u001b[43m,\u001b[49m\n",
      "\u001b[1;32m    317\u001b[0m \u001b[43m\u001b[49m\u001b[43m)\u001b[49m\n",
      "\n",
      "File \u001b[0;32m~/miniconda3/envs/celestify/lib/python3.10/site-packages/corner/arviz_corner.py:136\u001b[0m, in \u001b[0;36marviz_corner\u001b[0;34m(data, bins, range, axes_scale, weights, color, hist_bin_factor, smooth, smooth1d, labels, label_kwargs, titles, show_titles, title_fmt, title_kwargs, truths, truth_color, scale_hist, quantiles, verbose, fig, max_n_ticks, top_ticks, use_math_text, reverse, labelpad, hist_kwargs, group, var_names, filter_vars, coords, divergences, divergences_kwargs, labeller, **hist2d_kwargs)\u001b[0m\n",
      "\u001b[1;32m    134\u001b[0m \u001b[38;5;66;03m# Coerce the samples into the expected format\u001b[39;00m\n",
      "\u001b[1;32m    135\u001b[0m samples \u001b[38;5;241m=\u001b[39m np\u001b[38;5;241m.\u001b[39mstack([x[\u001b[38;5;241m-\u001b[39m\u001b[38;5;241m1\u001b[39m]\u001b[38;5;241m.\u001b[39mflatten() \u001b[38;5;28;01mfor\u001b[39;00m x \u001b[38;5;129;01min\u001b[39;00m plotters], axis\u001b[38;5;241m=\u001b[39m\u001b[38;5;241m-\u001b[39m\u001b[38;5;241m1\u001b[39m)\n",
      "\u001b[0;32m--> 136\u001b[0m fig \u001b[38;5;241m=\u001b[39m \u001b[43mcorner_impl\u001b[49m\u001b[43m(\u001b[49m\n",
      "\u001b[1;32m    137\u001b[0m \u001b[43m    \u001b[49m\u001b[43msamples\u001b[49m\u001b[43m,\u001b[49m\n",
      "\u001b[1;32m    138\u001b[0m \u001b[43m    \u001b[49m\u001b[43mbins\u001b[49m\u001b[38;5;241;43m=\u001b[39;49m\u001b[43mbins\u001b[49m\u001b[43m,\u001b[49m\n",
      "\u001b[1;32m    139\u001b[0m \u001b[43m    \u001b[49m\u001b[38;5;28;43mrange\u001b[39;49m\u001b[38;5;241;43m=\u001b[39;49m\u001b[38;5;28;43mrange\u001b[39;49m\u001b[43m,\u001b[49m\n",
      "\u001b[1;32m    140\u001b[0m \u001b[43m    \u001b[49m\u001b[43maxes_scale\u001b[49m\u001b[38;5;241;43m=\u001b[39;49m\u001b[43maxes_scale\u001b[49m\u001b[43m,\u001b[49m\n",
      "\u001b[1;32m    141\u001b[0m \u001b[43m    \u001b[49m\u001b[43mweights\u001b[49m\u001b[38;5;241;43m=\u001b[39;49m\u001b[43mweights\u001b[49m\u001b[43m,\u001b[49m\n",
      "\u001b[1;32m    142\u001b[0m \u001b[43m    \u001b[49m\u001b[43mcolor\u001b[49m\u001b[38;5;241;43m=\u001b[39;49m\u001b[43mcolor\u001b[49m\u001b[43m,\u001b[49m\n",
      "\u001b[1;32m    143\u001b[0m \u001b[43m    \u001b[49m\u001b[43mhist_bin_factor\u001b[49m\u001b[38;5;241;43m=\u001b[39;49m\u001b[43mhist_bin_factor\u001b[49m\u001b[43m,\u001b[49m\n",
      "\u001b[1;32m    144\u001b[0m \u001b[43m    \u001b[49m\u001b[43msmooth\u001b[49m\u001b[38;5;241;43m=\u001b[39;49m\u001b[43msmooth\u001b[49m\u001b[43m,\u001b[49m\n",
      "\u001b[1;32m    145\u001b[0m \u001b[43m    \u001b[49m\u001b[43msmooth1d\u001b[49m\u001b[38;5;241;43m=\u001b[39;49m\u001b[43msmooth1d\u001b[49m\u001b[43m,\u001b[49m\n",
      "\u001b[1;32m    146\u001b[0m \u001b[43m    \u001b[49m\u001b[43mlabels\u001b[49m\u001b[38;5;241;43m=\u001b[39;49m\u001b[43mlabels\u001b[49m\u001b[43m,\u001b[49m\n",
      "\u001b[1;32m    147\u001b[0m \u001b[43m    \u001b[49m\u001b[43mlabel_kwargs\u001b[49m\u001b[38;5;241;43m=\u001b[39;49m\u001b[43mlabel_kwargs\u001b[49m\u001b[43m,\u001b[49m\n",
      "\u001b[1;32m    148\u001b[0m \u001b[43m    \u001b[49m\u001b[43mtitles\u001b[49m\u001b[38;5;241;43m=\u001b[39;49m\u001b[43mtitles\u001b[49m\u001b[43m,\u001b[49m\n",
      "\u001b[1;32m    149\u001b[0m \u001b[43m    \u001b[49m\u001b[43mshow_titles\u001b[49m\u001b[38;5;241;43m=\u001b[39;49m\u001b[43mshow_titles\u001b[49m\u001b[43m,\u001b[49m\n",
      "\u001b[1;32m    150\u001b[0m \u001b[43m    \u001b[49m\u001b[43mtitle_fmt\u001b[49m\u001b[38;5;241;43m=\u001b[39;49m\u001b[43mtitle_fmt\u001b[49m\u001b[43m,\u001b[49m\n",
      "\u001b[1;32m    151\u001b[0m \u001b[43m    \u001b[49m\u001b[43mtitle_kwargs\u001b[49m\u001b[38;5;241;43m=\u001b[39;49m\u001b[43mtitle_kwargs\u001b[49m\u001b[43m,\u001b[49m\n",
      "\u001b[1;32m    152\u001b[0m \u001b[43m    \u001b[49m\u001b[43mtruths\u001b[49m\u001b[38;5;241;43m=\u001b[39;49m\u001b[43mtruths\u001b[49m\u001b[43m,\u001b[49m\n",
      "\u001b[1;32m    153\u001b[0m \u001b[43m    \u001b[49m\u001b[43mtruth_color\u001b[49m\u001b[38;5;241;43m=\u001b[39;49m\u001b[43mtruth_color\u001b[49m\u001b[43m,\u001b[49m\n",
      "\u001b[1;32m    154\u001b[0m \u001b[43m    \u001b[49m\u001b[43mscale_hist\u001b[49m\u001b[38;5;241;43m=\u001b[39;49m\u001b[43mscale_hist\u001b[49m\u001b[43m,\u001b[49m\n",
      "\u001b[1;32m    155\u001b[0m \u001b[43m    \u001b[49m\u001b[43mquantiles\u001b[49m\u001b[38;5;241;43m=\u001b[39;49m\u001b[43mquantiles\u001b[49m\u001b[43m,\u001b[49m\n",
      "\u001b[1;32m    156\u001b[0m \u001b[43m    \u001b[49m\u001b[43mverbose\u001b[49m\u001b[38;5;241;43m=\u001b[39;49m\u001b[43mverbose\u001b[49m\u001b[43m,\u001b[49m\n",
      "\u001b[1;32m    157\u001b[0m \u001b[43m    \u001b[49m\u001b[43mfig\u001b[49m\u001b[38;5;241;43m=\u001b[39;49m\u001b[43mfig\u001b[49m\u001b[43m,\u001b[49m\n",
      "\u001b[1;32m    158\u001b[0m \u001b[43m    \u001b[49m\u001b[43mmax_n_ticks\u001b[49m\u001b[38;5;241;43m=\u001b[39;49m\u001b[43mmax_n_ticks\u001b[49m\u001b[43m,\u001b[49m\n",
      "\u001b[1;32m    159\u001b[0m \u001b[43m    \u001b[49m\u001b[43mtop_ticks\u001b[49m\u001b[38;5;241;43m=\u001b[39;49m\u001b[43mtop_ticks\u001b[49m\u001b[43m,\u001b[49m\n",
      "\u001b[1;32m    160\u001b[0m \u001b[43m    \u001b[49m\u001b[43muse_math_text\u001b[49m\u001b[38;5;241;43m=\u001b[39;49m\u001b[43muse_math_text\u001b[49m\u001b[43m,\u001b[49m\n",
      "\u001b[1;32m    161\u001b[0m \u001b[43m    \u001b[49m\u001b[43mreverse\u001b[49m\u001b[38;5;241;43m=\u001b[39;49m\u001b[43mreverse\u001b[49m\u001b[43m,\u001b[49m\n",
      "\u001b[1;32m    162\u001b[0m \u001b[43m    \u001b[49m\u001b[43mlabelpad\u001b[49m\u001b[38;5;241;43m=\u001b[39;49m\u001b[43mlabelpad\u001b[49m\u001b[43m,\u001b[49m\n",
      "\u001b[1;32m    163\u001b[0m \u001b[43m    \u001b[49m\u001b[43mhist_kwargs\u001b[49m\u001b[38;5;241;43m=\u001b[39;49m\u001b[43mhist_kwargs\u001b[49m\u001b[43m,\u001b[49m\n",
      "\u001b[1;32m    164\u001b[0m \u001b[43m    \u001b[49m\u001b[38;5;241;43m*\u001b[39;49m\u001b[38;5;241;43m*\u001b[39;49m\u001b[43mhist2d_kwargs\u001b[49m\u001b[43m,\u001b[49m\n",
      "\u001b[1;32m    165\u001b[0m \u001b[43m\u001b[49m\u001b[43m)\u001b[49m\n",
      "\u001b[1;32m    167\u001b[0m \u001b[38;5;66;03m# Get diverging draws and combine chains\u001b[39;00m\n",
      "\u001b[1;32m    168\u001b[0m \u001b[38;5;28;01mif\u001b[39;00m divergences:\n",
      "\n",
      "File \u001b[0;32m~/miniconda3/envs/celestify/lib/python3.10/site-packages/corner/core.py:370\u001b[0m, in \u001b[0;36mcorner_impl\u001b[0;34m(xs, bins, range, axes_scale, weights, color, hist_bin_factor, smooth, smooth1d, labels, label_kwargs, titles, show_titles, title_fmt, title_kwargs, truths, truth_color, scale_hist, quantiles, title_quantiles, verbose, fig, max_n_ticks, top_ticks, use_math_text, reverse, labelpad, hist_kwargs, **hist2d_kwargs)\u001b[0m\n",
      "\u001b[1;32m    367\u001b[0m \u001b[38;5;28;01mif\u001b[39;00m \u001b[38;5;28mhasattr\u001b[39m(y, \u001b[38;5;124m\"\u001b[39m\u001b[38;5;124mcompressed\u001b[39m\u001b[38;5;124m\"\u001b[39m):\n",
      "\u001b[1;32m    368\u001b[0m     y \u001b[38;5;241m=\u001b[39m y\u001b[38;5;241m.\u001b[39mcompressed()\n",
      "\u001b[0;32m--> 370\u001b[0m \u001b[43mhist2d\u001b[49m\u001b[43m(\u001b[49m\n",
      "\u001b[1;32m    371\u001b[0m \u001b[43m    \u001b[49m\u001b[43my\u001b[49m\u001b[43m,\u001b[49m\n",
      "\u001b[1;32m    372\u001b[0m \u001b[43m    \u001b[49m\u001b[43mx\u001b[49m\u001b[43m,\u001b[49m\n",
      "\u001b[1;32m    373\u001b[0m \u001b[43m    \u001b[49m\u001b[43max\u001b[49m\u001b[38;5;241;43m=\u001b[39;49m\u001b[43max\u001b[49m\u001b[43m,\u001b[49m\n",
      "\u001b[1;32m    374\u001b[0m \u001b[43m    \u001b[49m\u001b[38;5;28;43mrange\u001b[39;49m\u001b[38;5;241;43m=\u001b[39;49m\u001b[43m[\u001b[49m\u001b[38;5;28;43mrange\u001b[39;49m\u001b[43m[\u001b[49m\u001b[43mj\u001b[49m\u001b[43m]\u001b[49m\u001b[43m,\u001b[49m\u001b[43m \u001b[49m\u001b[38;5;28;43mrange\u001b[39;49m\u001b[43m[\u001b[49m\u001b[43mi\u001b[49m\u001b[43m]\u001b[49m\u001b[43m]\u001b[49m\u001b[43m,\u001b[49m\n",
      "\u001b[1;32m    375\u001b[0m \u001b[43m    \u001b[49m\u001b[43maxes_scale\u001b[49m\u001b[38;5;241;43m=\u001b[39;49m\u001b[43m[\u001b[49m\u001b[43maxes_scale\u001b[49m\u001b[43m[\u001b[49m\u001b[43mj\u001b[49m\u001b[43m]\u001b[49m\u001b[43m,\u001b[49m\u001b[43m \u001b[49m\u001b[43maxes_scale\u001b[49m\u001b[43m[\u001b[49m\u001b[43mi\u001b[49m\u001b[43m]\u001b[49m\u001b[43m]\u001b[49m\u001b[43m,\u001b[49m\n",
      "\u001b[1;32m    376\u001b[0m \u001b[43m    \u001b[49m\u001b[43mweights\u001b[49m\u001b[38;5;241;43m=\u001b[39;49m\u001b[43mweights\u001b[49m\u001b[43m,\u001b[49m\n",
      "\u001b[1;32m    377\u001b[0m \u001b[43m    \u001b[49m\u001b[43mcolor\u001b[49m\u001b[38;5;241;43m=\u001b[39;49m\u001b[43mcolor\u001b[49m\u001b[43m,\u001b[49m\n",
      "\u001b[1;32m    378\u001b[0m \u001b[43m    \u001b[49m\u001b[43msmooth\u001b[49m\u001b[38;5;241;43m=\u001b[39;49m\u001b[43msmooth\u001b[49m\u001b[43m,\u001b[49m\n",
      "\u001b[1;32m    379\u001b[0m \u001b[43m    \u001b[49m\u001b[43mbins\u001b[49m\u001b[38;5;241;43m=\u001b[39;49m\u001b[43m[\u001b[49m\u001b[43mbins\u001b[49m\u001b[43m[\u001b[49m\u001b[43mj\u001b[49m\u001b[43m]\u001b[49m\u001b[43m,\u001b[49m\u001b[43m \u001b[49m\u001b[43mbins\u001b[49m\u001b[43m[\u001b[49m\u001b[43mi\u001b[49m\u001b[43m]\u001b[49m\u001b[43m]\u001b[49m\u001b[43m,\u001b[49m\n",
      "\u001b[1;32m    380\u001b[0m \u001b[43m    \u001b[49m\u001b[43mnew_fig\u001b[49m\u001b[38;5;241;43m=\u001b[39;49m\u001b[43mnew_fig\u001b[49m\u001b[43m,\u001b[49m\n",
      "\u001b[1;32m    381\u001b[0m \u001b[43m    \u001b[49m\u001b[43mforce_range\u001b[49m\u001b[38;5;241;43m=\u001b[39;49m\u001b[43mforce_range\u001b[49m\u001b[43m,\u001b[49m\n",
      "\u001b[1;32m    382\u001b[0m \u001b[43m    \u001b[49m\u001b[38;5;241;43m*\u001b[39;49m\u001b[38;5;241;43m*\u001b[39;49m\u001b[43mhist2d_kwargs\u001b[49m\u001b[43m,\u001b[49m\n",
      "\u001b[1;32m    383\u001b[0m \u001b[43m\u001b[49m\u001b[43m)\u001b[49m\n",
      "\u001b[1;32m    385\u001b[0m \u001b[38;5;28;01mif\u001b[39;00m max_n_ticks \u001b[38;5;241m==\u001b[39m \u001b[38;5;241m0\u001b[39m:\n",
      "\u001b[1;32m    386\u001b[0m     ax\u001b[38;5;241m.\u001b[39mxaxis\u001b[38;5;241m.\u001b[39mset_major_locator(NullLocator())\n",
      "\n",
      "File \u001b[0;32m~/miniconda3/envs/celestify/lib/python3.10/site-packages/corner/core.py:687\u001b[0m, in \u001b[0;36mhist2d\u001b[0;34m(x, y, bins, range, axes_scale, weights, levels, smooth, ax, color, quiet, plot_datapoints, plot_density, plot_contours, no_fill_contours, fill_contours, contour_kwargs, contourf_kwargs, data_kwargs, pcolor_kwargs, new_fig, force_range, **kwargs)\u001b[0m\n",
      "\u001b[1;32m    681\u001b[0m     \u001b[38;5;28;01mraise\u001b[39;00m \u001b[38;5;167;01mValueError\u001b[39;00m(\n",
      "\u001b[1;32m    682\u001b[0m         \u001b[38;5;124m\"\u001b[39m\u001b[38;5;124mIt looks like at least one of your sample columns \u001b[39m\u001b[38;5;124m\"\u001b[39m\n",
      "\u001b[1;32m    683\u001b[0m         \u001b[38;5;124m\"\u001b[39m\u001b[38;5;124mhave no dynamic range. You could try using the \u001b[39m\u001b[38;5;124m\"\u001b[39m\n",
      "\u001b[1;32m    684\u001b[0m         \u001b[38;5;124m\"\u001b[39m\u001b[38;5;124m'\u001b[39m\u001b[38;5;124mrange\u001b[39m\u001b[38;5;124m'\u001b[39m\u001b[38;5;124m argument.\u001b[39m\u001b[38;5;124m\"\u001b[39m\n",
      "\u001b[1;32m    685\u001b[0m     )\n",
      "\u001b[1;32m    686\u001b[0m \u001b[38;5;28;01mif\u001b[39;00m H\u001b[38;5;241m.\u001b[39msum() \u001b[38;5;241m==\u001b[39m \u001b[38;5;241m0\u001b[39m:\n",
      "\u001b[0;32m--> 687\u001b[0m     \u001b[38;5;28;01mraise\u001b[39;00m \u001b[38;5;167;01mValueError\u001b[39;00m(\n",
      "\u001b[1;32m    688\u001b[0m         \u001b[38;5;124m\"\u001b[39m\u001b[38;5;124mIt looks like the provided \u001b[39m\u001b[38;5;124m'\u001b[39m\u001b[38;5;124mrange\u001b[39m\u001b[38;5;124m'\u001b[39m\u001b[38;5;124m is not valid \u001b[39m\u001b[38;5;124m\"\u001b[39m\n",
      "\u001b[1;32m    689\u001b[0m         \u001b[38;5;124m\"\u001b[39m\u001b[38;5;124mor the sample is empty.\u001b[39m\u001b[38;5;124m\"\u001b[39m\n",
      "\u001b[1;32m    690\u001b[0m     )\n",
      "\u001b[1;32m    692\u001b[0m \u001b[38;5;28;01mif\u001b[39;00m smooth \u001b[38;5;129;01mis\u001b[39;00m \u001b[38;5;129;01mnot\u001b[39;00m \u001b[38;5;28;01mNone\u001b[39;00m:\n",
      "\u001b[1;32m    693\u001b[0m     \u001b[38;5;28;01mif\u001b[39;00m gaussian_filter \u001b[38;5;129;01mis\u001b[39;00m \u001b[38;5;28;01mNone\u001b[39;00m:\n",
      "\n",
      "\u001b[0;31mValueError\u001b[0m: It looks like the provided 'range' is not valid or the sample is empty."
     ]
    },
    {
     "data": {
      "image/png": "[encoded data removed]",
      "text/plain": [
       "<Figure size 550x550 with 4 Axes>"
      ]
     },
     "metadata": {},
     "output_type": "display_data"
    }
   ],
   "source": [
    "fig = None\n",
    "limits = None\n",
    "limits = [(6700., 7200.), (9.5, 10.5)]\n",
    "fig = corner(np.array(y), bins=50, density=True, range=limits)\n",
    "# fig = corner(np.array(yp), fig=fig, color=\"b\", bins=50, density=True, range=limits)\n",
    "fig = corner(np.power(10, log_y + mu), fig=fig, color=\"r\", bins=50, density=True, range=limits)\n",
    "# fig = corner(np.power(10, log_y), fig=fig, color=\"r\")"
   ]
  },
  {
   "cell_type": "code",
   "execution_count": null,
   "metadata": {},
   "outputs": [
    {
     "data": {
      "text/plain": [
       "Array([7.77930460e+01, 1.51442386e-02], dtype=float64)"
      ]
     },
     "metadata": {},
     "output_type": "display_data"
    }
   ],
   "source": [
    "np.std(y, axis=0)"
   ]
  }
 ],
 "metadata": {
  "language_info": {
   "name": "python"
  }
 },
 "nbformat": 4,
 "nbformat_minor": 2
}
